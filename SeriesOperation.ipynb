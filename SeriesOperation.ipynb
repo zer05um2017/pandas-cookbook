{
 "cells": [
  {
   "cell_type": "code",
   "execution_count": 2,
   "metadata": {},
   "outputs": [],
   "source": [
    "import pandas as pd\n",
    "import numpy as np\n",
    "import matplotlib.pyplot as plt\n",
    "%matplotlib inline"
   ]
  },
  {
   "cell_type": "code",
   "execution_count": 3,
   "metadata": {},
   "outputs": [
    {
     "data": {
      "text/plain": [
       "0       7.9\n",
       "1       7.1\n",
       "2       6.8\n",
       "3       8.5\n",
       "4       7.1\n",
       "5       6.6\n",
       "6       6.2\n",
       "7       7.8\n",
       "8       7.5\n",
       "9       7.5\n",
       "10      6.9\n",
       "11      6.1\n",
       "12      6.7\n",
       "13      7.3\n",
       "14      6.5\n",
       "15      7.2\n",
       "16      6.6\n",
       "17      8.1\n",
       "18      6.7\n",
       "19      6.8\n",
       "20      7.5\n",
       "21      7.0\n",
       "22      6.7\n",
       "23      7.9\n",
       "24      6.1\n",
       "25      7.2\n",
       "26      7.7\n",
       "27      8.2\n",
       "28      5.9\n",
       "29      7.0\n",
       "       ... \n",
       "4886    7.0\n",
       "4887    6.3\n",
       "4888    7.1\n",
       "4889    4.8\n",
       "4890    3.3\n",
       "4891    6.9\n",
       "4892    4.6\n",
       "4893    3.0\n",
       "4894    6.6\n",
       "4895    7.4\n",
       "4896    6.2\n",
       "4897    4.0\n",
       "4898    6.1\n",
       "4899    6.9\n",
       "4900    7.5\n",
       "4901    6.7\n",
       "4902    7.4\n",
       "4903    6.1\n",
       "4904    5.4\n",
       "4905    6.4\n",
       "4906    7.0\n",
       "4907    6.3\n",
       "4908    6.9\n",
       "4909    7.8\n",
       "4910    6.4\n",
       "4911    7.7\n",
       "4912    7.5\n",
       "4913    6.3\n",
       "4914    6.3\n",
       "4915    6.6\n",
       "Name: imdb_score, Length: 4916, dtype: float64"
      ]
     },
     "execution_count": 3,
     "metadata": {},
     "output_type": "execute_result"
    }
   ],
   "source": [
    "movie = pd.read_csv('../data/movie.csv')\n",
    "imdb_score = movie['imdb_score']\n",
    "imdb_score"
   ]
  },
  {
   "cell_type": "code",
   "execution_count": 4,
   "metadata": {},
   "outputs": [
    {
     "data": {
      "text/plain": [
       "0        True\n",
       "1        True\n",
       "2       False\n",
       "3        True\n",
       "4        True\n",
       "5       False\n",
       "6       False\n",
       "7        True\n",
       "8        True\n",
       "9        True\n",
       "10      False\n",
       "11      False\n",
       "12      False\n",
       "13       True\n",
       "14      False\n",
       "15       True\n",
       "16      False\n",
       "17       True\n",
       "18      False\n",
       "19      False\n",
       "20       True\n",
       "21      False\n",
       "22      False\n",
       "23       True\n",
       "24      False\n",
       "25       True\n",
       "26       True\n",
       "27       True\n",
       "28      False\n",
       "29      False\n",
       "        ...  \n",
       "4886    False\n",
       "4887    False\n",
       "4888     True\n",
       "4889    False\n",
       "4890    False\n",
       "4891    False\n",
       "4892    False\n",
       "4893    False\n",
       "4894    False\n",
       "4895     True\n",
       "4896    False\n",
       "4897    False\n",
       "4898    False\n",
       "4899    False\n",
       "4900     True\n",
       "4901    False\n",
       "4902     True\n",
       "4903    False\n",
       "4904    False\n",
       "4905    False\n",
       "4906    False\n",
       "4907    False\n",
       "4908    False\n",
       "4909     True\n",
       "4910    False\n",
       "4911     True\n",
       "4912     True\n",
       "4913    False\n",
       "4914    False\n",
       "4915    False\n",
       "Name: imdb_score, Length: 4916, dtype: bool"
      ]
     },
     "execution_count": 4,
     "metadata": {},
     "output_type": "execute_result"
    }
   ],
   "source": [
    "imdb_score > 7"
   ]
  },
  {
   "cell_type": "code",
   "execution_count": 5,
   "metadata": {},
   "outputs": [],
   "source": [
    "actor_1_fb_likes = movie['actor_1_facebook_likes']"
   ]
  },
  {
   "cell_type": "code",
   "execution_count": 6,
   "metadata": {},
   "outputs": [],
   "source": [
    "director = movie['director_name']"
   ]
  },
  {
   "cell_type": "code",
   "execution_count": 8,
   "metadata": {},
   "outputs": [
    {
     "data": {
      "text/plain": [
       "Steven Spielberg    26\n",
       "Woody Allen         22\n",
       "Clint Eastwood      20\n",
       "Name: director_name, dtype: int64"
      ]
     },
     "execution_count": 8,
     "metadata": {},
     "output_type": "execute_result"
    }
   ],
   "source": [
    "director.value_counts().head(3)"
   ]
  },
  {
   "cell_type": "code",
   "execution_count": 9,
   "metadata": {},
   "outputs": [
    {
     "data": {
      "text/plain": [
       "7"
      ]
     },
     "execution_count": 9,
     "metadata": {},
     "output_type": "execute_result"
    }
   ],
   "source": [
    "actor_1_fb_likes.isnull().sum()"
   ]
  },
  {
   "cell_type": "code",
   "execution_count": 10,
   "metadata": {},
   "outputs": [
    {
     "data": {
      "text/plain": [
       "dtype('float64')"
      ]
     },
     "execution_count": 10,
     "metadata": {},
     "output_type": "execute_result"
    }
   ],
   "source": [
    "actor_1_fb_likes.dtype"
   ]
  },
  {
   "cell_type": "code",
   "execution_count": 11,
   "metadata": {},
   "outputs": [
    {
     "data": {
      "text/plain": [
       "0     1000\n",
       "1    40000\n",
       "2    11000\n",
       "3    27000\n",
       "4      131\n",
       "Name: actor_1_facebook_likes, dtype: int64"
      ]
     },
     "execution_count": 11,
     "metadata": {},
     "output_type": "execute_result"
    }
   ],
   "source": [
    "actor_1_fb_likes.fillna(0).astype(int).head()"
   ]
  },
  {
   "cell_type": "code",
   "execution_count": null,
   "metadata": {},
   "outputs": [],
   "source": []
  }
 ],
 "metadata": {
  "kernelspec": {
   "display_name": "Python 3",
   "language": "python",
   "name": "python3"
  },
  "language_info": {
   "codemirror_mode": {
    "name": "ipython",
    "version": 3
   },
   "file_extension": ".py",
   "mimetype": "text/x-python",
   "name": "python",
   "nbconvert_exporter": "python",
   "pygments_lexer": "ipython3",
   "version": "3.7.3"
  }
 },
 "nbformat": 4,
 "nbformat_minor": 2
}
